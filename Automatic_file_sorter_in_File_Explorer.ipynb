{
 "cells": [
  {
   "cell_type": "code",
   "execution_count": 3,
   "id": "539b369c",
   "metadata": {},
   "outputs": [],
   "source": [
    "import os, shutil"
   ]
  },
  {
   "cell_type": "code",
   "execution_count": 19,
   "id": "0814f57a",
   "metadata": {},
   "outputs": [],
   "source": [
    "path = r\"/Users/pernebayarailym/Documents/Python_pr_a.f.s./\""
   ]
  },
  {
   "cell_type": "code",
   "execution_count": 45,
   "id": "699e6249",
   "metadata": {},
   "outputs": [],
   "source": [
    "file_name=os.listdir(path)"
   ]
  },
  {
   "cell_type": "markdown",
   "id": "a811fdd6",
   "metadata": {},
   "source": [
    "I developed an automated file sorting system using Python within a Jupyter Notebook environment. The primary goal of this project was to streamline the organization of files within a cluttered folder, providing an efficient solution for file management.\n",
    "\n",
    "Key Steps:\n",
    "\n",
    "Initial Folder Analysis: I started with a folder in the \"Documents\" directory that contained various file types, including CSV, PNG, JPG, and PDF.\n",
    "\n",
    "Folder Creation: Using Python code, I created three destination folders for sorting the files based on their types, making it easier to locate and access them.\n",
    "\n",
    "File Sorting Logic: Leveraging conditional statements (if, if not, elif), I implemented a systematic process to identify each file's type and move it to the appropriate folder. For example, CSV files were moved to a \"CSV\" folder, while image files (PNG and JPG) went to an \"Photos\" folder, and PDF files were relocated to a \"PDFs\" folder.\n",
    "\n",
    "Automation: With the system in place, the files on my computer were automatically sorted, eliminating the need for manual file organization."
   ]
  },
  {
   "cell_type": "code",
   "execution_count": 51,
   "id": "c12a9ed8",
   "metadata": {},
   "outputs": [],
   "source": [
    "folder_names = ['CSV files', 'Photo files', 'PDF files']\n",
    "\n",
    "for loop in range(0,3):\n",
    " if not os.path.exists(path + folder_names[loop]):\n",
    "    print ((path + folder_names[loop]))\n",
    "    os.makedirs(path + folder_names[loop])\n",
    "    \n",
    "for file in file_name:\n",
    "    if \".csv\" in file and not os.path.exists(path + \"CSV files/\" + file):\n",
    "        shutil.move(path + file, path + \"CSV files/\"+ file)\n",
    "    elif \".png\" in file and not os.path.exists(path + \"Photo files/\" + file):\n",
    "        shutil.move(path + file, path + \"Photo files/\"+ file)\n",
    "    elif \".jpg\" in file and not os.path.exists(path + \"Photo files/\" + file):\n",
    "        shutil.move(path + file, path + \"Photo files/\" + file)\n",
    "    elif \".pdf\" in file and not os.path.exists(path + \"PDF files/\" + file):\n",
    "        shutil.move(path + file, path + \"PDF files/\" + file)"
   ]
  }
 ],
 "metadata": {
  "kernelspec": {
   "display_name": "Python 3 (ipykernel)",
   "language": "python",
   "name": "python3"
  },
  "language_info": {
   "codemirror_mode": {
    "name": "ipython",
    "version": 3
   },
   "file_extension": ".py",
   "mimetype": "text/x-python",
   "name": "python",
   "nbconvert_exporter": "python",
   "pygments_lexer": "ipython3",
   "version": "3.11.5"
  }
 },
 "nbformat": 4,
 "nbformat_minor": 5
}
